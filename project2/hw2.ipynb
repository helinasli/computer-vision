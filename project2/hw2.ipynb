{
 "cells": [
  {
   "cell_type": "markdown",
   "metadata": {},
   "source": [
    "# Homework 2\n",
    "\n",
    "Please read the instructions before starting.\n",
    "\n",
    "- Only use array manipulation functions from ```numpy```.\n",
    "- You can use ```PIL``` for reading images and ```ipywidgets``` and ```display``` to display them.\n",
    "- Use ```numpy``` operations and arrays as much as possible for performance criteria. Try to avoid using for-loops as they will drastically slow down your implementations for large-scale images. Slow implementations will have a penalty during grading.\n",
    "- You can overwrite the template as long as the above conditions are not violated and the functionality is kept the same.\n",
    "\n",
    " Fill the the marked areas in the cells for each question.\n",
    "\n",
    "## Question 1\n"
   ]
  },
  {
   "cell_type": "markdown",
   "metadata": {},
   "source": [
    "Similar to the last question in the homework 1, implement a local filtering function using ```numpy``` and run mean and Gaussian filters of varying kernel sizes to the input image. (Note that you can use your previous implementation as a starting point)\n"
   ]
  },
  {
   "cell_type": "code",
   "execution_count": 3,
   "metadata": {},
   "outputs": [],
   "source": [
    "from typing import List, Tuple, Any\n",
    "import numpy as np\n",
    "from PIL.Image import Image as ImageType\n",
    "from PIL import Image\n",
    "\n",
    "from utils import array_to_image, image_to_array\n",
    "from renderer import noise_renderers\n",
    "\n",
    "\n",
    "def apply_filter(image: ImageType, kernel: np.ndarray, padding: List[List[int]]) -> np.ndarray:\n",
    "    \"\"\" Apply a filter with the given kernel to the zero padded input image.\n",
    "        **Note:** Kernels can be rectangular.\n",
    "        **Note:** You can use ```np.meshgrid``` and indexing to avoid using loops (bonus +5) for convolving.\n",
    "        **Do not** use ```np.convolve``` in this question.\n",
    "        **Do not** use ```np.pad```. Use index assignment and slicing with numpy and do not loop\n",
    "            over the pixels for padding.\n",
    "\n",
    "    Args:\n",
    "        image (ImageType): 2D Input image\n",
    "        kernel np.ndarray: 2D kernel array of odd edge sizes\n",
    "        padding: List[list[int]]: List of zero paddings. Example: [[3, 2], [1, 4]]. The first list\n",
    "            [3, 2] determines the padding for the width of the image while [1, 4] determines the\n",
    "            padding to apply to top and bottom of the image. The resulting image will have a shape\n",
    "            of ((1 + H + 4), (3 + W + 2)).\n",
    "\n",
    "    Raises:\n",
    "        ValueError: If the length of kernel edges are not odd\n",
    "\n",
    "    Returns:\n",
    "        np.ndarray: Filtered array (May contain negative values)\n",
    "    \"\"\"\n",
    "\n",
    "    k_height = kernel.shape[0]\n",
    "    k_width = kernel.shape[1]\n",
    "    if (k_height%2 == 0 or k_width%2 == 0):\n",
    "        raise ValueError('A very specific bad thing happened.')\n",
    "    image_array = image_to_array(image)\n",
    "    convolved_array = image_array\n",
    "    \n",
    "    for i in range (image_array.shape[0]):\n",
    "        for j in range(image_array.shape[1]):\n",
    "            mat = padding[i:i+k_height, j:j+k_width]\n",
    "            # print(np.sum(np.multiply(mat, kernel)))\n",
    "            convolved_array[i, j] = np.sum(np.multiply(mat, kernel))\n",
    "\n",
    "    # print(convolved_array)\n",
    "    return convolved_array\n",
    "    raise NotImplementedError\n",
    "\n",
    "\n",
    "def box_filter(image: ImageType, kernel_size: Tuple[int]) -> ImageType:\n",
    "    \"\"\" Apply Box filter.\n",
    "\n",
    "    Args:\n",
    "        image (ImageType): 2D Input image of shape (H, W)\n",
    "        kernel_size (Tuple[int]): 2D kernel size of kernel (height, width)\n",
    "\n",
    "    Returns:\n",
    "        ImageType: Filtered Image\n",
    "    \"\"\"\n",
    "    image_array = image_to_array(image)\n",
    "\n",
    "    A = np.zeros((int((kernel_size[0]-1)/2),image_array.shape[1]+kernel_size[1]-1))\n",
    "    B = np.zeros((image_array.shape[0],int((kernel_size[1]-1)/2)))\n",
    "    padded_list = np.block([[A], [B,image_array,B], [A]])\n",
    "\n",
    "    kernel = np.ones((kernel_size[0], kernel_size[1]))/(kernel_size[0]*kernel_size[1])\n",
    " \n",
    "    result = apply_filter(image, kernel, padded_list)\n",
    "    return array_to_image(result)\n",
    "    raise NotImplementedError\n",
    "\n",
    "\n",
    "def gaussian_filter(image: ImageType, kernel_size: Tuple[int], sigma: float) -> ImageType:\n",
    "    \"\"\" Apply Gauss filter that is centered and has the shared standard deviation ```sigma```\n",
    "    **Note:** Remember to normalize kernel before applying.\n",
    "    **Note:** You can use ```np.meshgrid``` (once again) to generate Gaussian kernels\n",
    "\n",
    "    Args:\n",
    "        image (ImageType): 2D Input image of shape (H, W)\n",
    "        kernel_size (Tuple[int]): 2D kernel size\n",
    "        sigma (float): Standard deviation\n",
    "\n",
    "    Returns:\n",
    "        ImageType: Filtered Image\n",
    "    \"\"\"\n",
    "    image_array = image_to_array(image)\n",
    "\n",
    "    A = np.zeros((int((kernel_size[0]-1)/2),image_array.shape[1]+kernel_size[1]-1))\n",
    "    B = np.zeros((image_array.shape[0],int((kernel_size[1]-1)/2)))\n",
    "    padded_list = np.block([[A], [B,image_array,B], [A]])\n",
    "    sigma = 1\n",
    "    kernel = np.ones((kernel_size[0],kernel_size[1]))/(kernel_size[0]*kernel_size[1])\n",
    "    for i in range (kernel.shape[0]):\n",
    "        for j in range (kernel.shape[1]):\n",
    "            kernel[i,j] = 1/(2*np.pi*pow(sigma,2))*np.exp(-1*(pow(j,2)+pow(i,2))/2*pow(sigma,2))\n",
    "    sum = np.sum(kernel)\n",
    "    kernel = kernel/sum\n",
    "\n",
    "    result = apply_filter(image, kernel, padded_list)\n",
    "    return array_to_image(result)\n",
    "    # raise NotImplementedError\n"
   ]
  },
  {
   "cell_type": "code",
   "execution_count": 4,
   "metadata": {},
   "outputs": [
    {
     "data": {
      "application/vnd.jupyter.widget-view+json": {
       "model_id": "d6597b01cc8c4d849de7b03efa510a73",
       "version_major": 2,
       "version_minor": 0
      },
      "text/plain": [
       "HBox(children=(VBox(children=(VBox(children=(HTML(value='<h2>Original Image</h2>'),), layout=Layout(height='20…"
      ]
     },
     "metadata": {},
     "output_type": "display_data"
    }
   ],
   "source": [
    "# Test your above functions before running this cell\n",
    "image = Image.open(\"noisy_image.png\")\n",
    "noise_renderers(image, gaussian_filter, box_filter)"
   ]
  },
  {
   "cell_type": "markdown",
   "metadata": {},
   "source": [
    "> Discuss the differences of the box and Gaussian filters in this Markdown cell.\n",
    "\n",
    "**Answer**: \n",
    "\n",
    "For the frequency domain, the gaussian filter is better than the box (mean) filter. The box filter is insufficient to separate frequencies but can be calculated faster than Gaussian blur. If you don't want to separate the frequencies box filter can be a good choice to remove noise in the image. Gaussian filters weigh pixels in a bell curve around the center pixel. This means that pixels farther away have lower weights. Box filter, average the pixel values ​​of all neighboring pixels. This is equivalent to giving equal weight to all pixels around the center, regardless of the distance from the center pixel. Near pixels have a greater effect on flattened rather than further pixels. However, in the box filter, all pixels of the kernel are given equal weight. Therefore, a better blur image is obtained with the gaussian filter."
   ]
  },
  {
   "cell_type": "markdown",
   "metadata": {},
   "source": [
    "## Question 2\n",
    "\n",
    "Implement vertical and horizontal derivatives with 1D kernels of length 3. Use ```apply_filter``` function to do so.\n",
    "\n",
    "**Note:** You can use kernels of shape (1, k) or (k, 1) as 1D kernels. "
   ]
  },
  {
   "cell_type": "code",
   "execution_count": 5,
   "metadata": {},
   "outputs": [],
   "source": [
    "from renderer import edge_renderers\n",
    "\n",
    "def horizontal_derivative(image: ImageType) -> ImageType:\n",
    "    \"\"\" Return the horizontal derivative image with same padding.\n",
    "    **Note**: Pad the input image so that the output image has the same size/shape.\n",
    "\n",
    "    Args:\n",
    "        image (ImageType): 2D Input Image of shape (H, W)\n",
    "\n",
    "    Returns:\n",
    "        ImageType: Derivative image of shape (H, W).\n",
    "    \"\"\"\n",
    "    kernel = np.array([[1,0,-1],])\n",
    "    # print(kernel.shape)\n",
    "    image_array = image_to_array(image)\n",
    "    B = np.zeros((image_array.shape[0],1))\n",
    "    padded_list = np.block([B,image_array,B])\n",
    "    # print(padded_list)\n",
    "\n",
    "    result = apply_filter(image, kernel, padded_list)\n",
    "    return array_to_image(result)    \n",
    "    raise NotImplementedError\n",
    "\n",
    "\n",
    "def vertical_derivative(image: ImageType) -> ImageType:\n",
    "    \"\"\" Return the vertical derivative image with same padding.\n",
    "    **Note**: Pad the input image so that the output image has the same size/shape.\n",
    "\n",
    "    Args:\n",
    "        image (ImageType): 2D Input Image of shape (H, W)\n",
    "\n",
    "    Returns:\n",
    "        ImageType: Derivative image of shape (H, W).\n",
    "    \"\"\"\n",
    "    kernel = np.array([[1],[0],[-1]])\n",
    "    # print(kernel.shape)\n",
    "    image_array = image_to_array(image)\n",
    "\n",
    "    A = np.zeros((1,image_array.shape[1]))\n",
    "    padded_list = np.block([[A],[image_array],[A]])\n",
    "    # print(padded_list)\n",
    "\n",
    "    result = apply_filter(image, kernel, padded_list)\n",
    "    return array_to_image(result)\n",
    "    raise NotImplementedError\n"
   ]
  },
  {
   "cell_type": "code",
   "execution_count": 6,
   "metadata": {},
   "outputs": [
    {
     "data": {
      "application/vnd.jupyter.widget-view+json": {
       "model_id": "3226ac68fab542a4be9dae791b01cd65",
       "version_major": 2,
       "version_minor": 0
      },
      "text/plain": [
       "HBox(children=(VBox(children=(VBox(children=(HTML(value='<h2>Original Image</h2>'),), layout=Layout(height='70…"
      ]
     },
     "metadata": {},
     "output_type": "display_data"
    }
   ],
   "source": [
    "# Test your above functions before running this cell\n",
    "image = Image.open(\"building.png\")\n",
    "edge_renderers(\n",
    "    (image, \"Original Image\"),\n",
    "    (vertical_derivative(image), \"Vertical\"),\n",
    "    (horizontal_derivative(image), \"Horizontal\"),\n",
    ")"
   ]
  },
  {
   "cell_type": "markdown",
   "metadata": {},
   "source": [
    "### Sobel Operator\n",
    "\n",
    "Implement Sobel filter for edge detection using 3x3 kernels.\n",
    "\n",
    "Combine the output of the vertical and horizontal Sobel operators, namely $S_x$ and $S_y$, to obtain gradient image.\n",
    " "
   ]
  },
  {
   "cell_type": "code",
   "execution_count": 9,
   "metadata": {},
   "outputs": [],
   "source": [
    "def sobel_vertical(image: ImageType) -> np.ndarray:\n",
    "    \"\"\" Return the output of the vertical Sobel operator with same padding.\n",
    "\n",
    "    Args:\n",
    "        image (ImageType): 2D Input Image of shape (H, W)\n",
    "\n",
    "    Returns:\n",
    "        np.ndarray: Derivative array of shape (H, W).\n",
    "    \"\"\"\n",
    "    kernel = np.array([[1,2,1],[0,0,0],[-1,-2,-1]])\n",
    "    image_array = image_to_array(image)\n",
    "\n",
    "    A = np.zeros((1,image_array.shape[1]+2))\n",
    "    B = np.zeros((image_array.shape[0],1))\n",
    "    padded_list = np.block([[A], [B,image_array,B], [A]])\n",
    "\n",
    "    result = apply_filter(image, kernel, padded_list)\n",
    "    return result\n",
    "    raise NotImplementedError\n",
    "\n",
    "\n",
    "def sobel_horizontal(image: ImageType) -> np.ndarray:\n",
    "    \"\"\" Return the output of the horizontal Sobel operator with same padding.\n",
    "\n",
    "    Args:\n",
    "        image (ImageType): 2D Input Image of shape (H, W)\n",
    "\n",
    "    Returns:\n",
    "        np.ndarray: Derivative array of shape (H, W).\n",
    "    \"\"\"\n",
    "    kernel = np.array([[1,0,-1],[2,0,-2],[1,0,-1]])\n",
    "    image_array = image_to_array(image)\n",
    "\n",
    "    A = np.zeros((1,image_array.shape[1]+2))\n",
    "    B = np.zeros((image_array.shape[0],1))\n",
    "    padded_list = np.block([[A], [B,image_array,B], [A]])\n",
    "\n",
    "    result = apply_filter(image, kernel, padded_list)\n",
    "    return result\n",
    "    # raise NotImplementedError\n",
    "\n",
    "\n",
    "def gradient_image(image: ImageType) -> ImageType:\n",
    "    \"\"\" Return the gradient image calculated by combining the output of Sobel filters.\n",
    "\n",
    "    Args:\n",
    "        image (ImageType): 2D Input Image of shape (H, W)\n",
    "\n",
    "    Returns:\n",
    "        ImageType: Derivative image of shape (H, W).\n",
    "    \"\"\"\n",
    "    array_v = np.absolute(sobel_vertical(image))\n",
    "    array_h = np.absolute(sobel_horizontal(image))\n",
    "    return array_to_image(array_h + array_v)\n",
    "    \n",
    "    raise NotImplementedError\n"
   ]
  },
  {
   "cell_type": "code",
   "execution_count": 10,
   "metadata": {},
   "outputs": [
    {
     "data": {
      "application/vnd.jupyter.widget-view+json": {
       "model_id": "2449d5d1d8294d62821af18e613c9d7b",
       "version_major": 2,
       "version_minor": 0
      },
      "text/plain": [
       "HBox(children=(VBox(children=(VBox(children=(HTML(value='<h2>Original Image</h2>'),), layout=Layout(height='70…"
      ]
     },
     "metadata": {},
     "output_type": "display_data"
    }
   ],
   "source": [
    "# Test your above functions before running this cell\n",
    "image = Image.open(\"building.png\")\n",
    "edge_renderers(\n",
    "    (image, \"Original Image\"),\n",
    "    (gradient_image(image), \"Edge Image\"),\n",
    ")"
   ]
  },
  {
   "cell_type": "markdown",
   "metadata": {},
   "source": [
    "HELİN ASLI AKSOY                                                                                                      \n",
    "150200705"
   ]
  },
  {
   "cell_type": "markdown",
   "metadata": {},
   "source": []
  }
 ],
 "metadata": {
  "kernelspec": {
   "display_name": "Python 3.10.6 64-bit",
   "language": "python",
   "name": "python3"
  },
  "language_info": {
   "codemirror_mode": {
    "name": "ipython",
    "version": 3
   },
   "file_extension": ".py",
   "mimetype": "text/x-python",
   "name": "python",
   "nbconvert_exporter": "python",
   "pygments_lexer": "ipython3",
   "version": "3.10.6"
  },
  "orig_nbformat": 4,
  "vscode": {
   "interpreter": {
    "hash": "aee8b7b246df8f9039afb4144a1f6fd8d2ca17a180786b69acc140d282b71a49"
   }
  }
 },
 "nbformat": 4,
 "nbformat_minor": 2
}
